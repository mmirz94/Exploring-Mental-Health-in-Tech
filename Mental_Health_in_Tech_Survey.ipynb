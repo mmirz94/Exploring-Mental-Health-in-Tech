{
 "cells": [
  {
   "cell_type": "markdown",
   "metadata": {},
   "source": [
    "**You can download the data set from : https://www.kaggle.com/osmi/mental-health-in-tech-survey**\n",
    "\n",
    "**If you want to try the code for yourself make sure you change the directory to where you saved the data set on disk.**"
   ]
  },
  {
   "cell_type": "code",
   "execution_count": 1,
   "metadata": {},
   "outputs": [],
   "source": [
    "import numpy as np\n",
    "import pandas as pd\n",
    "import matplotlib.pyplot as plt\n",
    "import sklearn\n",
    "import seaborn as sns\n",
    "from sklearn.preprocessing import LabelEncoder\n",
    "from sklearn.model_selection import train_test_split\n",
    "from sklearn.preprocessing import MinMaxScaler\n",
    "from sklearn.svm import SVC\n",
    "from sklearn.neighbors import KNeighborsClassifier\n",
    "from sklearn.linear_model import LogisticRegression\n",
    "from sklearn.metrics import accuracy_score\n",
    "from sklearn.metrics import recall_score\n",
    "from sklearn.metrics import precision_score\n",
    "from sklearn.metrics import average_precision_score\n",
    "from sklearn.metrics import precision_recall_curve\n",
    "from sklearn.metrics import plot_precision_recall_curve\n",
    "from sklearn.metrics import plot_confusion_matrix\n",
    "from sklearn.metrics import f1_score"
   ]
  },
  {
   "cell_type": "markdown",
   "metadata": {},
   "source": [
    "# Importing, Exploring and Cleaning the data:"
   ]
  },
  {
   "cell_type": "code",
   "execution_count": 2,
   "metadata": {},
   "outputs": [],
   "source": [
    "data=pd.read_csv(\"./datasets.csv\")"
   ]
  },
  {
   "cell_type": "code",
   "execution_count": 3,
   "metadata": {
    "scrolled": true
   },
   "outputs": [
    {
     "data": {
      "text/html": [
       "<div>\n",
       "<style scoped>\n",
       "    .dataframe tbody tr th:only-of-type {\n",
       "        vertical-align: middle;\n",
       "    }\n",
       "\n",
       "    .dataframe tbody tr th {\n",
       "        vertical-align: top;\n",
       "    }\n",
       "\n",
       "    .dataframe thead th {\n",
       "        text-align: right;\n",
       "    }\n",
       "</style>\n",
       "<table border=\"1\" class=\"dataframe\">\n",
       "  <thead>\n",
       "    <tr style=\"text-align: right;\">\n",
       "      <th></th>\n",
       "      <th>Timestamp</th>\n",
       "      <th>Age</th>\n",
       "      <th>Gender</th>\n",
       "      <th>Country</th>\n",
       "      <th>state</th>\n",
       "      <th>self_employed</th>\n",
       "      <th>family_history</th>\n",
       "      <th>treatment</th>\n",
       "      <th>work_interfere</th>\n",
       "      <th>no_employees</th>\n",
       "      <th>...</th>\n",
       "      <th>leave</th>\n",
       "      <th>mental_health_consequence</th>\n",
       "      <th>phys_health_consequence</th>\n",
       "      <th>coworkers</th>\n",
       "      <th>supervisor</th>\n",
       "      <th>mental_health_interview</th>\n",
       "      <th>phys_health_interview</th>\n",
       "      <th>mental_vs_physical</th>\n",
       "      <th>obs_consequence</th>\n",
       "      <th>comments</th>\n",
       "    </tr>\n",
       "  </thead>\n",
       "  <tbody>\n",
       "    <tr>\n",
       "      <td>0</td>\n",
       "      <td>2014-08-27 11:29:31</td>\n",
       "      <td>37</td>\n",
       "      <td>Female</td>\n",
       "      <td>United States</td>\n",
       "      <td>IL</td>\n",
       "      <td>NaN</td>\n",
       "      <td>No</td>\n",
       "      <td>Yes</td>\n",
       "      <td>Often</td>\n",
       "      <td>6-25</td>\n",
       "      <td>...</td>\n",
       "      <td>Somewhat easy</td>\n",
       "      <td>No</td>\n",
       "      <td>No</td>\n",
       "      <td>Some of them</td>\n",
       "      <td>Yes</td>\n",
       "      <td>No</td>\n",
       "      <td>Maybe</td>\n",
       "      <td>Yes</td>\n",
       "      <td>No</td>\n",
       "      <td>NaN</td>\n",
       "    </tr>\n",
       "    <tr>\n",
       "      <td>1</td>\n",
       "      <td>2014-08-27 11:29:37</td>\n",
       "      <td>44</td>\n",
       "      <td>M</td>\n",
       "      <td>United States</td>\n",
       "      <td>IN</td>\n",
       "      <td>NaN</td>\n",
       "      <td>No</td>\n",
       "      <td>No</td>\n",
       "      <td>Rarely</td>\n",
       "      <td>More than 1000</td>\n",
       "      <td>...</td>\n",
       "      <td>Don't know</td>\n",
       "      <td>Maybe</td>\n",
       "      <td>No</td>\n",
       "      <td>No</td>\n",
       "      <td>No</td>\n",
       "      <td>No</td>\n",
       "      <td>No</td>\n",
       "      <td>Don't know</td>\n",
       "      <td>No</td>\n",
       "      <td>NaN</td>\n",
       "    </tr>\n",
       "    <tr>\n",
       "      <td>2</td>\n",
       "      <td>2014-08-27 11:29:44</td>\n",
       "      <td>32</td>\n",
       "      <td>Male</td>\n",
       "      <td>Canada</td>\n",
       "      <td>NaN</td>\n",
       "      <td>NaN</td>\n",
       "      <td>No</td>\n",
       "      <td>No</td>\n",
       "      <td>Rarely</td>\n",
       "      <td>6-25</td>\n",
       "      <td>...</td>\n",
       "      <td>Somewhat difficult</td>\n",
       "      <td>No</td>\n",
       "      <td>No</td>\n",
       "      <td>Yes</td>\n",
       "      <td>Yes</td>\n",
       "      <td>Yes</td>\n",
       "      <td>Yes</td>\n",
       "      <td>No</td>\n",
       "      <td>No</td>\n",
       "      <td>NaN</td>\n",
       "    </tr>\n",
       "    <tr>\n",
       "      <td>3</td>\n",
       "      <td>2014-08-27 11:29:46</td>\n",
       "      <td>31</td>\n",
       "      <td>Male</td>\n",
       "      <td>United Kingdom</td>\n",
       "      <td>NaN</td>\n",
       "      <td>NaN</td>\n",
       "      <td>Yes</td>\n",
       "      <td>Yes</td>\n",
       "      <td>Often</td>\n",
       "      <td>26-100</td>\n",
       "      <td>...</td>\n",
       "      <td>Somewhat difficult</td>\n",
       "      <td>Yes</td>\n",
       "      <td>Yes</td>\n",
       "      <td>Some of them</td>\n",
       "      <td>No</td>\n",
       "      <td>Maybe</td>\n",
       "      <td>Maybe</td>\n",
       "      <td>No</td>\n",
       "      <td>Yes</td>\n",
       "      <td>NaN</td>\n",
       "    </tr>\n",
       "    <tr>\n",
       "      <td>4</td>\n",
       "      <td>2014-08-27 11:30:22</td>\n",
       "      <td>31</td>\n",
       "      <td>Male</td>\n",
       "      <td>United States</td>\n",
       "      <td>TX</td>\n",
       "      <td>NaN</td>\n",
       "      <td>No</td>\n",
       "      <td>No</td>\n",
       "      <td>Never</td>\n",
       "      <td>100-500</td>\n",
       "      <td>...</td>\n",
       "      <td>Don't know</td>\n",
       "      <td>No</td>\n",
       "      <td>No</td>\n",
       "      <td>Some of them</td>\n",
       "      <td>Yes</td>\n",
       "      <td>Yes</td>\n",
       "      <td>Yes</td>\n",
       "      <td>Don't know</td>\n",
       "      <td>No</td>\n",
       "      <td>NaN</td>\n",
       "    </tr>\n",
       "    <tr>\n",
       "      <td>5</td>\n",
       "      <td>2014-08-27 11:31:22</td>\n",
       "      <td>33</td>\n",
       "      <td>Male</td>\n",
       "      <td>United States</td>\n",
       "      <td>TN</td>\n",
       "      <td>NaN</td>\n",
       "      <td>Yes</td>\n",
       "      <td>No</td>\n",
       "      <td>Sometimes</td>\n",
       "      <td>6-25</td>\n",
       "      <td>...</td>\n",
       "      <td>Don't know</td>\n",
       "      <td>No</td>\n",
       "      <td>No</td>\n",
       "      <td>Yes</td>\n",
       "      <td>Yes</td>\n",
       "      <td>No</td>\n",
       "      <td>Maybe</td>\n",
       "      <td>Don't know</td>\n",
       "      <td>No</td>\n",
       "      <td>NaN</td>\n",
       "    </tr>\n",
       "    <tr>\n",
       "      <td>6</td>\n",
       "      <td>2014-08-27 11:31:50</td>\n",
       "      <td>35</td>\n",
       "      <td>Female</td>\n",
       "      <td>United States</td>\n",
       "      <td>MI</td>\n",
       "      <td>NaN</td>\n",
       "      <td>Yes</td>\n",
       "      <td>Yes</td>\n",
       "      <td>Sometimes</td>\n",
       "      <td>1-5</td>\n",
       "      <td>...</td>\n",
       "      <td>Somewhat difficult</td>\n",
       "      <td>Maybe</td>\n",
       "      <td>Maybe</td>\n",
       "      <td>Some of them</td>\n",
       "      <td>No</td>\n",
       "      <td>No</td>\n",
       "      <td>No</td>\n",
       "      <td>Don't know</td>\n",
       "      <td>No</td>\n",
       "      <td>NaN</td>\n",
       "    </tr>\n",
       "    <tr>\n",
       "      <td>7</td>\n",
       "      <td>2014-08-27 11:32:05</td>\n",
       "      <td>39</td>\n",
       "      <td>M</td>\n",
       "      <td>Canada</td>\n",
       "      <td>NaN</td>\n",
       "      <td>NaN</td>\n",
       "      <td>No</td>\n",
       "      <td>No</td>\n",
       "      <td>Never</td>\n",
       "      <td>1-5</td>\n",
       "      <td>...</td>\n",
       "      <td>Don't know</td>\n",
       "      <td>No</td>\n",
       "      <td>No</td>\n",
       "      <td>No</td>\n",
       "      <td>No</td>\n",
       "      <td>No</td>\n",
       "      <td>No</td>\n",
       "      <td>No</td>\n",
       "      <td>No</td>\n",
       "      <td>NaN</td>\n",
       "    </tr>\n",
       "    <tr>\n",
       "      <td>8</td>\n",
       "      <td>2014-08-27 11:32:39</td>\n",
       "      <td>42</td>\n",
       "      <td>Female</td>\n",
       "      <td>United States</td>\n",
       "      <td>IL</td>\n",
       "      <td>NaN</td>\n",
       "      <td>Yes</td>\n",
       "      <td>Yes</td>\n",
       "      <td>Sometimes</td>\n",
       "      <td>100-500</td>\n",
       "      <td>...</td>\n",
       "      <td>Very difficult</td>\n",
       "      <td>Maybe</td>\n",
       "      <td>No</td>\n",
       "      <td>Yes</td>\n",
       "      <td>Yes</td>\n",
       "      <td>No</td>\n",
       "      <td>Maybe</td>\n",
       "      <td>No</td>\n",
       "      <td>No</td>\n",
       "      <td>NaN</td>\n",
       "    </tr>\n",
       "    <tr>\n",
       "      <td>9</td>\n",
       "      <td>2014-08-27 11:32:43</td>\n",
       "      <td>23</td>\n",
       "      <td>Male</td>\n",
       "      <td>Canada</td>\n",
       "      <td>NaN</td>\n",
       "      <td>NaN</td>\n",
       "      <td>No</td>\n",
       "      <td>No</td>\n",
       "      <td>Never</td>\n",
       "      <td>26-100</td>\n",
       "      <td>...</td>\n",
       "      <td>Don't know</td>\n",
       "      <td>No</td>\n",
       "      <td>No</td>\n",
       "      <td>Yes</td>\n",
       "      <td>Yes</td>\n",
       "      <td>Maybe</td>\n",
       "      <td>Maybe</td>\n",
       "      <td>Yes</td>\n",
       "      <td>No</td>\n",
       "      <td>NaN</td>\n",
       "    </tr>\n",
       "  </tbody>\n",
       "</table>\n",
       "<p>10 rows × 27 columns</p>\n",
       "</div>"
      ],
      "text/plain": [
       "             Timestamp  Age  Gender         Country state self_employed  \\\n",
       "0  2014-08-27 11:29:31   37  Female   United States    IL           NaN   \n",
       "1  2014-08-27 11:29:37   44       M   United States    IN           NaN   \n",
       "2  2014-08-27 11:29:44   32    Male          Canada   NaN           NaN   \n",
       "3  2014-08-27 11:29:46   31    Male  United Kingdom   NaN           NaN   \n",
       "4  2014-08-27 11:30:22   31    Male   United States    TX           NaN   \n",
       "5  2014-08-27 11:31:22   33    Male   United States    TN           NaN   \n",
       "6  2014-08-27 11:31:50   35  Female   United States    MI           NaN   \n",
       "7  2014-08-27 11:32:05   39       M          Canada   NaN           NaN   \n",
       "8  2014-08-27 11:32:39   42  Female   United States    IL           NaN   \n",
       "9  2014-08-27 11:32:43   23    Male          Canada   NaN           NaN   \n",
       "\n",
       "  family_history treatment work_interfere    no_employees  ...  \\\n",
       "0             No       Yes          Often            6-25  ...   \n",
       "1             No        No         Rarely  More than 1000  ...   \n",
       "2             No        No         Rarely            6-25  ...   \n",
       "3            Yes       Yes          Often          26-100  ...   \n",
       "4             No        No          Never         100-500  ...   \n",
       "5            Yes        No      Sometimes            6-25  ...   \n",
       "6            Yes       Yes      Sometimes             1-5  ...   \n",
       "7             No        No          Never             1-5  ...   \n",
       "8            Yes       Yes      Sometimes         100-500  ...   \n",
       "9             No        No          Never          26-100  ...   \n",
       "\n",
       "                leave mental_health_consequence phys_health_consequence  \\\n",
       "0       Somewhat easy                        No                      No   \n",
       "1          Don't know                     Maybe                      No   \n",
       "2  Somewhat difficult                        No                      No   \n",
       "3  Somewhat difficult                       Yes                     Yes   \n",
       "4          Don't know                        No                      No   \n",
       "5          Don't know                        No                      No   \n",
       "6  Somewhat difficult                     Maybe                   Maybe   \n",
       "7          Don't know                        No                      No   \n",
       "8      Very difficult                     Maybe                      No   \n",
       "9          Don't know                        No                      No   \n",
       "\n",
       "      coworkers supervisor mental_health_interview phys_health_interview  \\\n",
       "0  Some of them        Yes                      No                 Maybe   \n",
       "1            No         No                      No                    No   \n",
       "2           Yes        Yes                     Yes                   Yes   \n",
       "3  Some of them         No                   Maybe                 Maybe   \n",
       "4  Some of them        Yes                     Yes                   Yes   \n",
       "5           Yes        Yes                      No                 Maybe   \n",
       "6  Some of them         No                      No                    No   \n",
       "7            No         No                      No                    No   \n",
       "8           Yes        Yes                      No                 Maybe   \n",
       "9           Yes        Yes                   Maybe                 Maybe   \n",
       "\n",
       "  mental_vs_physical obs_consequence comments  \n",
       "0                Yes              No      NaN  \n",
       "1         Don't know              No      NaN  \n",
       "2                 No              No      NaN  \n",
       "3                 No             Yes      NaN  \n",
       "4         Don't know              No      NaN  \n",
       "5         Don't know              No      NaN  \n",
       "6         Don't know              No      NaN  \n",
       "7                 No              No      NaN  \n",
       "8                 No              No      NaN  \n",
       "9                Yes              No      NaN  \n",
       "\n",
       "[10 rows x 27 columns]"
      ]
     },
     "execution_count": 3,
     "metadata": {},
     "output_type": "execute_result"
    }
   ],
   "source": [
    "data.head(10)"
   ]
  },
  {
   "cell_type": "code",
   "execution_count": 4,
   "metadata": {},
   "outputs": [
    {
     "data": {
      "text/plain": [
       "(1259, 27)"
      ]
     },
     "execution_count": 4,
     "metadata": {},
     "output_type": "execute_result"
    }
   ],
   "source": [
    "data.shape"
   ]
  },
  {
   "cell_type": "code",
   "execution_count": 5,
   "metadata": {},
   "outputs": [
    {
     "name": "stdout",
     "output_type": "stream",
     "text": [
      "<class 'pandas.core.frame.DataFrame'>\n",
      "RangeIndex: 1259 entries, 0 to 1258\n",
      "Data columns (total 27 columns):\n",
      "Timestamp                    1259 non-null object\n",
      "Age                          1259 non-null int64\n",
      "Gender                       1259 non-null object\n",
      "Country                      1259 non-null object\n",
      "state                        744 non-null object\n",
      "self_employed                1241 non-null object\n",
      "family_history               1259 non-null object\n",
      "treatment                    1259 non-null object\n",
      "work_interfere               995 non-null object\n",
      "no_employees                 1259 non-null object\n",
      "remote_work                  1259 non-null object\n",
      "tech_company                 1259 non-null object\n",
      "benefits                     1259 non-null object\n",
      "care_options                 1259 non-null object\n",
      "wellness_program             1259 non-null object\n",
      "seek_help                    1259 non-null object\n",
      "anonymity                    1259 non-null object\n",
      "leave                        1259 non-null object\n",
      "mental_health_consequence    1259 non-null object\n",
      "phys_health_consequence      1259 non-null object\n",
      "coworkers                    1259 non-null object\n",
      "supervisor                   1259 non-null object\n",
      "mental_health_interview      1259 non-null object\n",
      "phys_health_interview        1259 non-null object\n",
      "mental_vs_physical           1259 non-null object\n",
      "obs_consequence              1259 non-null object\n",
      "comments                     164 non-null object\n",
      "dtypes: int64(1), object(26)\n",
      "memory usage: 265.7+ KB\n"
     ]
    }
   ],
   "source": [
    "data.info() #checking how many NaNs are in the data set"
   ]
  },
  {
   "cell_type": "markdown",
   "metadata": {},
   "source": [
    "**we can see that \"Timestamp\" , \"comments\" & \"state\" have a lot of NaN values, so we just delete those columns. Besides they are not relevant to the problem we are trying to address. \"Work_interfere\" & \"self_employed\" columns also have a number of NaNs but not as much as the mentioned 3 columns!**"
   ]
  },
  {
   "cell_type": "code",
   "execution_count": 6,
   "metadata": {},
   "outputs": [],
   "source": [
    "del data[\"state\"]\n",
    "del data[\"comments\"]\n",
    "del data[\"Timestamp\"]"
   ]
  },
  {
   "cell_type": "code",
   "execution_count": 7,
   "metadata": {},
   "outputs": [
    {
     "data": {
      "text/plain": [
       "{'Age': array([         37,          44,          32,          31,          33,\n",
       "                 35,          39,          42,          23,          29,\n",
       "                 36,          27,          46,          41,          34,\n",
       "                 30,          40,          38,          50,          24,\n",
       "                 18,          28,          26,          22,          19,\n",
       "                 25,          45,          21,         -29,          43,\n",
       "                 56,          60,          54,         329,          55,\n",
       "        99999999999,          48,          20,          57,          58,\n",
       "                 47,          62,          51,          65,          49,\n",
       "              -1726,           5,          53,          61,           8,\n",
       "                 11,          -1,          72], dtype=int64),\n",
       " 'Gender': array(['Female', 'M', 'Male', 'male', 'female', 'm', 'Male-ish', 'maile',\n",
       "        'Trans-female', 'Cis Female', 'F', 'something kinda male?',\n",
       "        'Cis Male', 'Woman', 'f', 'Mal', 'Male (CIS)', 'queer/she/they',\n",
       "        'non-binary', 'Femake', 'woman', 'Make', 'Nah', 'All', 'Enby',\n",
       "        'fluid', 'Genderqueer', 'Female ', 'Androgyne', 'Agender',\n",
       "        'cis-female/femme', 'Guy (-ish) ^_^', 'male leaning androgynous',\n",
       "        'Male ', 'Man', 'Trans woman', 'msle', 'Neuter', 'Female (trans)',\n",
       "        'queer', 'Female (cis)', 'Mail', 'cis male', 'A little about you',\n",
       "        'Malr', 'p', 'femail', 'Cis Man',\n",
       "        'ostensibly male, unsure what that really means'], dtype=object),\n",
       " 'Country': array(['United States', 'Canada', 'United Kingdom', 'Bulgaria', 'France',\n",
       "        'Portugal', 'Netherlands', 'Switzerland', 'Poland', 'Australia',\n",
       "        'Germany', 'Russia', 'Mexico', 'Brazil', 'Slovenia', 'Costa Rica',\n",
       "        'Austria', 'Ireland', 'India', 'South Africa', 'Italy', 'Sweden',\n",
       "        'Colombia', 'Latvia', 'Romania', 'Belgium', 'New Zealand',\n",
       "        'Zimbabwe', 'Spain', 'Finland', 'Uruguay', 'Israel',\n",
       "        'Bosnia and Herzegovina', 'Hungary', 'Singapore', 'Japan',\n",
       "        'Nigeria', 'Croatia', 'Norway', 'Thailand', 'Denmark',\n",
       "        'Bahamas, The', 'Greece', 'Moldova', 'Georgia', 'China',\n",
       "        'Czech Republic', 'Philippines'], dtype=object),\n",
       " 'self_employed': array([nan, 'Yes', 'No'], dtype=object),\n",
       " 'family_history': array(['No', 'Yes'], dtype=object),\n",
       " 'treatment': array(['Yes', 'No'], dtype=object),\n",
       " 'work_interfere': array(['Often', 'Rarely', 'Never', 'Sometimes', nan], dtype=object),\n",
       " 'no_employees': array(['6-25', 'More than 1000', '26-100', '100-500', '1-5', '500-1000'],\n",
       "       dtype=object),\n",
       " 'remote_work': array(['No', 'Yes'], dtype=object),\n",
       " 'tech_company': array(['Yes', 'No'], dtype=object),\n",
       " 'benefits': array(['Yes', \"Don't know\", 'No'], dtype=object),\n",
       " 'care_options': array(['Not sure', 'No', 'Yes'], dtype=object),\n",
       " 'wellness_program': array(['No', \"Don't know\", 'Yes'], dtype=object),\n",
       " 'seek_help': array(['Yes', \"Don't know\", 'No'], dtype=object),\n",
       " 'anonymity': array(['Yes', \"Don't know\", 'No'], dtype=object),\n",
       " 'leave': array(['Somewhat easy', \"Don't know\", 'Somewhat difficult',\n",
       "        'Very difficult', 'Very easy'], dtype=object),\n",
       " 'mental_health_consequence': array(['No', 'Maybe', 'Yes'], dtype=object),\n",
       " 'phys_health_consequence': array(['No', 'Yes', 'Maybe'], dtype=object),\n",
       " 'coworkers': array(['Some of them', 'No', 'Yes'], dtype=object),\n",
       " 'supervisor': array(['Yes', 'No', 'Some of them'], dtype=object),\n",
       " 'mental_health_interview': array(['No', 'Yes', 'Maybe'], dtype=object),\n",
       " 'phys_health_interview': array(['Maybe', 'No', 'Yes'], dtype=object),\n",
       " 'mental_vs_physical': array(['Yes', \"Don't know\", 'No'], dtype=object),\n",
       " 'obs_consequence': array(['No', 'Yes'], dtype=object)}"
      ]
     },
     "execution_count": 7,
     "metadata": {},
     "output_type": "execute_result"
    }
   ],
   "source": [
    "#Printing the unique values in each column\n",
    "dict={}\n",
    "for f in data.columns:\n",
    "    dict[f]=data[f].unique()\n",
    "    \n",
    "dict"
   ]
  },
  {
   "cell_type": "markdown",
   "metadata": {},
   "source": [
    "**Clearly the values in columns \"Age\" & \"Gender\" need to be cleaned. We can see that those who have chosen ages above 80 or under 15 usually do not take time to fill the questionnaire correctly. As a result, it's better to remove them from the list of participants in the test**"
   ]
  },
  {
   "cell_type": "code",
   "execution_count": 8,
   "metadata": {},
   "outputs": [
    {
     "data": {
      "text/html": [
       "<div>\n",
       "<style scoped>\n",
       "    .dataframe tbody tr th:only-of-type {\n",
       "        vertical-align: middle;\n",
       "    }\n",
       "\n",
       "    .dataframe tbody tr th {\n",
       "        vertical-align: top;\n",
       "    }\n",
       "\n",
       "    .dataframe thead th {\n",
       "        text-align: right;\n",
       "    }\n",
       "</style>\n",
       "<table border=\"1\" class=\"dataframe\">\n",
       "  <thead>\n",
       "    <tr style=\"text-align: right;\">\n",
       "      <th></th>\n",
       "      <th>Age</th>\n",
       "      <th>Gender</th>\n",
       "      <th>Country</th>\n",
       "      <th>self_employed</th>\n",
       "      <th>family_history</th>\n",
       "      <th>treatment</th>\n",
       "      <th>work_interfere</th>\n",
       "      <th>no_employees</th>\n",
       "      <th>remote_work</th>\n",
       "      <th>tech_company</th>\n",
       "      <th>...</th>\n",
       "      <th>anonymity</th>\n",
       "      <th>leave</th>\n",
       "      <th>mental_health_consequence</th>\n",
       "      <th>phys_health_consequence</th>\n",
       "      <th>coworkers</th>\n",
       "      <th>supervisor</th>\n",
       "      <th>mental_health_interview</th>\n",
       "      <th>phys_health_interview</th>\n",
       "      <th>mental_vs_physical</th>\n",
       "      <th>obs_consequence</th>\n",
       "    </tr>\n",
       "  </thead>\n",
       "  <tbody>\n",
       "    <tr>\n",
       "      <td>143</td>\n",
       "      <td>-29</td>\n",
       "      <td>Male</td>\n",
       "      <td>United States</td>\n",
       "      <td>No</td>\n",
       "      <td>No</td>\n",
       "      <td>No</td>\n",
       "      <td>NaN</td>\n",
       "      <td>More than 1000</td>\n",
       "      <td>Yes</td>\n",
       "      <td>No</td>\n",
       "      <td>...</td>\n",
       "      <td>Don't know</td>\n",
       "      <td>Don't know</td>\n",
       "      <td>No</td>\n",
       "      <td>No</td>\n",
       "      <td>Some of them</td>\n",
       "      <td>Yes</td>\n",
       "      <td>No</td>\n",
       "      <td>No</td>\n",
       "      <td>Don't know</td>\n",
       "      <td>No</td>\n",
       "    </tr>\n",
       "    <tr>\n",
       "      <td>364</td>\n",
       "      <td>329</td>\n",
       "      <td>Male</td>\n",
       "      <td>United States</td>\n",
       "      <td>No</td>\n",
       "      <td>No</td>\n",
       "      <td>Yes</td>\n",
       "      <td>Often</td>\n",
       "      <td>6-25</td>\n",
       "      <td>Yes</td>\n",
       "      <td>Yes</td>\n",
       "      <td>...</td>\n",
       "      <td>Don't know</td>\n",
       "      <td>Don't know</td>\n",
       "      <td>Maybe</td>\n",
       "      <td>No</td>\n",
       "      <td>Some of them</td>\n",
       "      <td>No</td>\n",
       "      <td>No</td>\n",
       "      <td>No</td>\n",
       "      <td>No</td>\n",
       "      <td>No</td>\n",
       "    </tr>\n",
       "    <tr>\n",
       "      <td>390</td>\n",
       "      <td>99999999999</td>\n",
       "      <td>All</td>\n",
       "      <td>Zimbabwe</td>\n",
       "      <td>Yes</td>\n",
       "      <td>Yes</td>\n",
       "      <td>Yes</td>\n",
       "      <td>Often</td>\n",
       "      <td>1-5</td>\n",
       "      <td>No</td>\n",
       "      <td>Yes</td>\n",
       "      <td>...</td>\n",
       "      <td>No</td>\n",
       "      <td>Very difficult</td>\n",
       "      <td>Yes</td>\n",
       "      <td>Yes</td>\n",
       "      <td>No</td>\n",
       "      <td>No</td>\n",
       "      <td>Yes</td>\n",
       "      <td>No</td>\n",
       "      <td>No</td>\n",
       "      <td>Yes</td>\n",
       "    </tr>\n",
       "    <tr>\n",
       "      <td>715</td>\n",
       "      <td>-1726</td>\n",
       "      <td>male</td>\n",
       "      <td>United Kingdom</td>\n",
       "      <td>No</td>\n",
       "      <td>No</td>\n",
       "      <td>Yes</td>\n",
       "      <td>Sometimes</td>\n",
       "      <td>26-100</td>\n",
       "      <td>No</td>\n",
       "      <td>No</td>\n",
       "      <td>...</td>\n",
       "      <td>Don't know</td>\n",
       "      <td>Somewhat difficult</td>\n",
       "      <td>Yes</td>\n",
       "      <td>No</td>\n",
       "      <td>No</td>\n",
       "      <td>No</td>\n",
       "      <td>No</td>\n",
       "      <td>Maybe</td>\n",
       "      <td>Don't know</td>\n",
       "      <td>No</td>\n",
       "    </tr>\n",
       "    <tr>\n",
       "      <td>734</td>\n",
       "      <td>5</td>\n",
       "      <td>Male</td>\n",
       "      <td>United States</td>\n",
       "      <td>No</td>\n",
       "      <td>No</td>\n",
       "      <td>No</td>\n",
       "      <td>NaN</td>\n",
       "      <td>100-500</td>\n",
       "      <td>No</td>\n",
       "      <td>Yes</td>\n",
       "      <td>...</td>\n",
       "      <td>Don't know</td>\n",
       "      <td>Somewhat easy</td>\n",
       "      <td>No</td>\n",
       "      <td>No</td>\n",
       "      <td>Yes</td>\n",
       "      <td>Yes</td>\n",
       "      <td>No</td>\n",
       "      <td>No</td>\n",
       "      <td>Yes</td>\n",
       "      <td>No</td>\n",
       "    </tr>\n",
       "    <tr>\n",
       "      <td>989</td>\n",
       "      <td>8</td>\n",
       "      <td>A little about you</td>\n",
       "      <td>Bahamas, The</td>\n",
       "      <td>Yes</td>\n",
       "      <td>Yes</td>\n",
       "      <td>Yes</td>\n",
       "      <td>Often</td>\n",
       "      <td>1-5</td>\n",
       "      <td>Yes</td>\n",
       "      <td>Yes</td>\n",
       "      <td>...</td>\n",
       "      <td>Yes</td>\n",
       "      <td>Very easy</td>\n",
       "      <td>Yes</td>\n",
       "      <td>Yes</td>\n",
       "      <td>Yes</td>\n",
       "      <td>Yes</td>\n",
       "      <td>Yes</td>\n",
       "      <td>Yes</td>\n",
       "      <td>Yes</td>\n",
       "      <td>Yes</td>\n",
       "    </tr>\n",
       "    <tr>\n",
       "      <td>1090</td>\n",
       "      <td>11</td>\n",
       "      <td>male</td>\n",
       "      <td>United States</td>\n",
       "      <td>Yes</td>\n",
       "      <td>No</td>\n",
       "      <td>No</td>\n",
       "      <td>Never</td>\n",
       "      <td>1-5</td>\n",
       "      <td>Yes</td>\n",
       "      <td>Yes</td>\n",
       "      <td>...</td>\n",
       "      <td>Yes</td>\n",
       "      <td>Very easy</td>\n",
       "      <td>No</td>\n",
       "      <td>No</td>\n",
       "      <td>Some of them</td>\n",
       "      <td>Some of them</td>\n",
       "      <td>No</td>\n",
       "      <td>Maybe</td>\n",
       "      <td>Yes</td>\n",
       "      <td>No</td>\n",
       "    </tr>\n",
       "    <tr>\n",
       "      <td>1127</td>\n",
       "      <td>-1</td>\n",
       "      <td>p</td>\n",
       "      <td>United States</td>\n",
       "      <td>Yes</td>\n",
       "      <td>Yes</td>\n",
       "      <td>Yes</td>\n",
       "      <td>Often</td>\n",
       "      <td>1-5</td>\n",
       "      <td>Yes</td>\n",
       "      <td>Yes</td>\n",
       "      <td>...</td>\n",
       "      <td>Yes</td>\n",
       "      <td>Very easy</td>\n",
       "      <td>Yes</td>\n",
       "      <td>Yes</td>\n",
       "      <td>Yes</td>\n",
       "      <td>Yes</td>\n",
       "      <td>Yes</td>\n",
       "      <td>Yes</td>\n",
       "      <td>Yes</td>\n",
       "      <td>Yes</td>\n",
       "    </tr>\n",
       "  </tbody>\n",
       "</table>\n",
       "<p>8 rows × 24 columns</p>\n",
       "</div>"
      ],
      "text/plain": [
       "              Age              Gender         Country self_employed  \\\n",
       "143           -29                Male   United States            No   \n",
       "364           329                Male   United States            No   \n",
       "390   99999999999                 All        Zimbabwe           Yes   \n",
       "715         -1726                male  United Kingdom            No   \n",
       "734             5                Male   United States            No   \n",
       "989             8  A little about you    Bahamas, The           Yes   \n",
       "1090           11                male   United States           Yes   \n",
       "1127           -1                   p   United States           Yes   \n",
       "\n",
       "     family_history treatment work_interfere    no_employees remote_work  \\\n",
       "143              No        No            NaN  More than 1000         Yes   \n",
       "364              No       Yes          Often            6-25         Yes   \n",
       "390             Yes       Yes          Often             1-5          No   \n",
       "715              No       Yes      Sometimes          26-100          No   \n",
       "734              No        No            NaN         100-500          No   \n",
       "989             Yes       Yes          Often             1-5         Yes   \n",
       "1090             No        No          Never             1-5         Yes   \n",
       "1127            Yes       Yes          Often             1-5         Yes   \n",
       "\n",
       "     tech_company  ...   anonymity               leave  \\\n",
       "143            No  ...  Don't know          Don't know   \n",
       "364           Yes  ...  Don't know          Don't know   \n",
       "390           Yes  ...          No      Very difficult   \n",
       "715            No  ...  Don't know  Somewhat difficult   \n",
       "734           Yes  ...  Don't know       Somewhat easy   \n",
       "989           Yes  ...         Yes           Very easy   \n",
       "1090          Yes  ...         Yes           Very easy   \n",
       "1127          Yes  ...         Yes           Very easy   \n",
       "\n",
       "     mental_health_consequence phys_health_consequence     coworkers  \\\n",
       "143                         No                      No  Some of them   \n",
       "364                      Maybe                      No  Some of them   \n",
       "390                        Yes                     Yes            No   \n",
       "715                        Yes                      No            No   \n",
       "734                         No                      No           Yes   \n",
       "989                        Yes                     Yes           Yes   \n",
       "1090                        No                      No  Some of them   \n",
       "1127                       Yes                     Yes           Yes   \n",
       "\n",
       "        supervisor mental_health_interview phys_health_interview  \\\n",
       "143            Yes                      No                    No   \n",
       "364             No                      No                    No   \n",
       "390             No                     Yes                    No   \n",
       "715             No                      No                 Maybe   \n",
       "734            Yes                      No                    No   \n",
       "989            Yes                     Yes                   Yes   \n",
       "1090  Some of them                      No                 Maybe   \n",
       "1127           Yes                     Yes                   Yes   \n",
       "\n",
       "     mental_vs_physical obs_consequence  \n",
       "143          Don't know              No  \n",
       "364                  No              No  \n",
       "390                  No             Yes  \n",
       "715          Don't know              No  \n",
       "734                 Yes              No  \n",
       "989                 Yes             Yes  \n",
       "1090                Yes              No  \n",
       "1127                Yes             Yes  \n",
       "\n",
       "[8 rows x 24 columns]"
      ]
     },
     "execution_count": 8,
     "metadata": {},
     "output_type": "execute_result"
    }
   ],
   "source": [
    "data[(data[\"Age\"]>80)|((data[\"Age\"]<15))]"
   ]
  },
  {
   "cell_type": "code",
   "execution_count": 9,
   "metadata": {},
   "outputs": [],
   "source": [
    "data_cleaned = data[(data[\"Age\"]<80)&((data[\"Age\"]>15))]"
   ]
  },
  {
   "cell_type": "code",
   "execution_count": 10,
   "metadata": {},
   "outputs": [
    {
     "data": {
      "text/plain": [
       "(1251, 24)"
      ]
     },
     "execution_count": 10,
     "metadata": {},
     "output_type": "execute_result"
    }
   ],
   "source": [
    "data_cleaned.shape"
   ]
  },
  {
   "cell_type": "code",
   "execution_count": 11,
   "metadata": {},
   "outputs": [
    {
     "data": {
      "text/html": [
       "<div>\n",
       "<style scoped>\n",
       "    .dataframe tbody tr th:only-of-type {\n",
       "        vertical-align: middle;\n",
       "    }\n",
       "\n",
       "    .dataframe tbody tr th {\n",
       "        vertical-align: top;\n",
       "    }\n",
       "\n",
       "    .dataframe thead th {\n",
       "        text-align: right;\n",
       "    }\n",
       "</style>\n",
       "<table border=\"1\" class=\"dataframe\">\n",
       "  <thead>\n",
       "    <tr style=\"text-align: right;\">\n",
       "      <th></th>\n",
       "      <th>Age</th>\n",
       "    </tr>\n",
       "  </thead>\n",
       "  <tbody>\n",
       "    <tr>\n",
       "      <td>count</td>\n",
       "      <td>1251.000000</td>\n",
       "    </tr>\n",
       "    <tr>\n",
       "      <td>mean</td>\n",
       "      <td>32.076739</td>\n",
       "    </tr>\n",
       "    <tr>\n",
       "      <td>std</td>\n",
       "      <td>7.288272</td>\n",
       "    </tr>\n",
       "    <tr>\n",
       "      <td>min</td>\n",
       "      <td>18.000000</td>\n",
       "    </tr>\n",
       "    <tr>\n",
       "      <td>25%</td>\n",
       "      <td>27.000000</td>\n",
       "    </tr>\n",
       "    <tr>\n",
       "      <td>50%</td>\n",
       "      <td>31.000000</td>\n",
       "    </tr>\n",
       "    <tr>\n",
       "      <td>75%</td>\n",
       "      <td>36.000000</td>\n",
       "    </tr>\n",
       "    <tr>\n",
       "      <td>max</td>\n",
       "      <td>72.000000</td>\n",
       "    </tr>\n",
       "  </tbody>\n",
       "</table>\n",
       "</div>"
      ],
      "text/plain": [
       "               Age\n",
       "count  1251.000000\n",
       "mean     32.076739\n",
       "std       7.288272\n",
       "min      18.000000\n",
       "25%      27.000000\n",
       "50%      31.000000\n",
       "75%      36.000000\n",
       "max      72.000000"
      ]
     },
     "execution_count": 11,
     "metadata": {},
     "output_type": "execute_result"
    }
   ],
   "source": [
    "data_cleaned.describe()"
   ]
  },
  {
   "cell_type": "markdown",
   "metadata": {},
   "source": [
    "**Now we categorize the genders into three main categories, \"male\", \"female\", and \"trans\". At the end, if the sample does not fall into one of these categories, we remove it from the list**\n"
   ]
  },
  {
   "cell_type": "code",
   "execution_count": 12,
   "metadata": {},
   "outputs": [],
   "source": [
    "male_str = [\"male\", \"m\", \"male-ish\", \"maile\", \"mal\", \"male (cis)\", \"make\", \"male \", \"man\",\"msle\", \\\n",
    "            \"mail\", \"malr\",\"cis man\", \"Cis Male\", \"cis male\"]\n",
    "\n",
    "trans_str = [\"trans-female\", \"something kinda male?\", \"queer/she/they\", \"non-binary\",\"nah\", \"all\", \"enby\", \\\n",
    "             \"fluid\", \"genderqueer\", \"androgyne\", \"agender\", \"male leaning androgynous\", \"guy (-ish) ^_^\", \\\n",
    "             \"trans woman\", \"neuter\", \"female (trans)\", \"queer\"]   \n",
    "\n",
    "female_str = [\"cis female\", \"f\", \"female\", \"woman\",  \"femake\", \"female \",\"cis-female/femme\", \"female (cis)\", \"femail\"]"
   ]
  },
  {
   "cell_type": "code",
   "execution_count": 13,
   "metadata": {},
   "outputs": [
    {
     "name": "stderr",
     "output_type": "stream",
     "text": [
      "C:\\Users\\mirza\\Anaconda3\\lib\\site-packages\\pandas\\core\\indexing.py:205: SettingWithCopyWarning: \n",
      "A value is trying to be set on a copy of a slice from a DataFrame\n",
      "\n",
      "See the caveats in the documentation: http://pandas.pydata.org/pandas-docs/stable/user_guide/indexing.html#returning-a-view-versus-a-copy\n",
      "  self._setitem_with_indexer(indexer, value)\n",
      "C:\\Users\\mirza\\Anaconda3\\lib\\site-packages\\ipykernel_launcher.py:8: SettingWithCopyWarning: \n",
      "A value is trying to be set on a copy of a slice from a DataFrame\n",
      "\n",
      "See the caveats in the documentation: http://pandas.pydata.org/pandas-docs/stable/user_guide/indexing.html#returning-a-view-versus-a-copy\n",
      "  \n",
      "C:\\Users\\mirza\\Anaconda3\\lib\\site-packages\\ipykernel_launcher.py:4: SettingWithCopyWarning: \n",
      "A value is trying to be set on a copy of a slice from a DataFrame\n",
      "\n",
      "See the caveats in the documentation: http://pandas.pydata.org/pandas-docs/stable/user_guide/indexing.html#returning-a-view-versus-a-copy\n",
      "  after removing the cwd from sys.path.\n",
      "C:\\Users\\mirza\\Anaconda3\\lib\\site-packages\\ipykernel_launcher.py:6: SettingWithCopyWarning: \n",
      "A value is trying to be set on a copy of a slice from a DataFrame\n",
      "\n",
      "See the caveats in the documentation: http://pandas.pydata.org/pandas-docs/stable/user_guide/indexing.html#returning-a-view-versus-a-copy\n",
      "  \n"
     ]
    }
   ],
   "source": [
    "to_be_deleted=[]\n",
    "for i in range(len(data_cleaned)):\n",
    "    if data_cleaned[\"Gender\"].iloc[i].lower() in male_str:\n",
    "        data_cleaned[\"Gender\"].iloc[i]=\"male\"\n",
    "    elif data_cleaned[\"Gender\"].iloc[i].lower() in trans_str:\n",
    "        data_cleaned[\"Gender\"].iloc[i]= \"trans\"\n",
    "    elif data_cleaned[\"Gender\"].iloc[i].lower() in female_str:\n",
    "        data_cleaned[\"Gender\"].iloc[i]=\"female\"\n",
    "    else:\n",
    "        to_be_deleted.append(i)\n",
    "        \n",
    "for i in  to_be_deleted:\n",
    "    data_cleaned = data_cleaned.drop(data_cleaned.index[i])\n",
    "    \n",
    "    "
   ]
  },
  {
   "cell_type": "code",
   "execution_count": 14,
   "metadata": {},
   "outputs": [
    {
     "data": {
      "text/plain": [
       "array(['female', 'male', 'trans'], dtype=object)"
      ]
     },
     "execution_count": 14,
     "metadata": {},
     "output_type": "execute_result"
    }
   ],
   "source": [
    "data_cleaned[\"Gender\"].unique()"
   ]
  },
  {
   "cell_type": "code",
   "execution_count": 15,
   "metadata": {},
   "outputs": [
    {
     "data": {
      "text/plain": [
       "(1250, 24)"
      ]
     },
     "execution_count": 15,
     "metadata": {},
     "output_type": "execute_result"
    }
   ],
   "source": [
    "data_cleaned.shape"
   ]
  },
  {
   "cell_type": "code",
   "execution_count": 16,
   "metadata": {},
   "outputs": [
    {
     "data": {
      "image/png": "[encoded data removed]",
      "text/plain": [
       "<Figure size 432x432 with 1 Axes>"
      ]
     },
     "metadata": {
      "needs_background": "light"
     },
     "output_type": "display_data"
    }
   ],
   "source": [
    "#Plot a bar chart to see the distribution of the genders in the data set\n",
    "plt.figure(figsize=(6,6))\n",
    "counts=data_cleaned[\"Gender\"].value_counts()\n",
    "plt.bar(counts.index, counts.values)\n",
    "plt.yticks(np.arange(0,1001,step=50))\n",
    "plt.show()"
   ]
  },
  {
   "cell_type": "markdown",
   "metadata": {},
   "source": [
    " **Now we can get back to the problem of having NaNs in \"self_employed\" & \"work_interfere\" columns:**"
   ]
  },
  {
   "cell_type": "code",
   "execution_count": 17,
   "metadata": {
    "scrolled": true
   },
   "outputs": [
    {
     "name": "stdout",
     "output_type": "stream",
     "text": [
      "The most frequent answer to \"self_employed\" question is: No , with a frequency rate of 0.8847402597402597\n"
     ]
    }
   ],
   "source": [
    "rate=data_cleaned[\"self_employed\"].describe().freq/data_cleaned[\"self_employed\"].count()\n",
    "print(\"The most frequent answer to \\\"self_employed\\\" question is:\",data_cleaned[\"self_employed\"].describe().top,\\\n",
    "      \", with a frequency rate of\",rate)"
   ]
  },
  {
   "cell_type": "markdown",
   "metadata": {},
   "source": [
    "**As a result we will replace NaNs with \"No\"** "
   ]
  },
  {
   "cell_type": "code",
   "execution_count": 18,
   "metadata": {},
   "outputs": [],
   "source": [
    "data_cleaned[\"self_employed\"].fillna(value=\"No\",inplace=True)"
   ]
  },
  {
   "cell_type": "code",
   "execution_count": 19,
   "metadata": {},
   "outputs": [
    {
     "data": {
      "text/plain": [
       "count     1250\n",
       "unique       2\n",
       "top         No\n",
       "freq      1108\n",
       "Name: self_employed, dtype: object"
      ]
     },
     "execution_count": 19,
     "metadata": {},
     "output_type": "execute_result"
    }
   ],
   "source": [
    "data_cleaned[\"self_employed\"].describe()"
   ]
  },
  {
   "cell_type": "code",
   "execution_count": 20,
   "metadata": {},
   "outputs": [
    {
     "data": {
      "image/png": "[encoded data removed]",
      "text/plain": [
       "<Figure size 432x288 with 1 Axes>"
      ]
     },
     "metadata": {
      "needs_background": "light"
     },
     "output_type": "display_data"
    }
   ],
   "source": [
    "data_cleaned[\"work_interfere\"].fillna(value=\"NaN\",inplace=True)\n",
    "counts=data_cleaned[\"work_interfere\"].value_counts()\n",
    "plt.bar(counts.index, counts.values)\n",
    "plt.yticks(np.arange(0,500,step=50))\n",
    "plt.title(\"Distribution of answers to \\\"work_interfere\\\" question\")\n",
    "plt.show()"
   ]
  },
  {
   "cell_type": "markdown",
   "metadata": {},
   "source": [
    "**As it can be seen in the bar chart above, non of the answers is dominant considering the count of the NaNs. As a result, we keep NaN as an answer to the question so that we have 5 different classes here.**"
   ]
  },
  {
   "cell_type": "markdown",
   "metadata": {},
   "source": [
    "**Next, we add a new column to our DataFrame called \"Age_range\". This enables us to explore the data more using new plots in the future.**"
   ]
  },
  {
   "cell_type": "code",
   "execution_count": 21,
   "metadata": {},
   "outputs": [],
   "source": [
    "data_cleaned[\"Age_range\"]=pd.cut(data_cleaned[\"Age\"],[14,24,34,44,54,75], labels=[\"15-24\",\"25-34\",\"35-44\",\"45-54\",\"55-75\"])"
   ]
  },
  {
   "cell_type": "code",
   "execution_count": 22,
   "metadata": {},
   "outputs": [
    {
     "data": {
      "text/html": [
       "<div>\n",
       "<style scoped>\n",
       "    .dataframe tbody tr th:only-of-type {\n",
       "        vertical-align: middle;\n",
       "    }\n",
       "\n",
       "    .dataframe tbody tr th {\n",
       "        vertical-align: top;\n",
       "    }\n",
       "\n",
       "    .dataframe thead th {\n",
       "        text-align: right;\n",
       "    }\n",
       "</style>\n",
       "<table border=\"1\" class=\"dataframe\">\n",
       "  <thead>\n",
       "    <tr style=\"text-align: right;\">\n",
       "      <th></th>\n",
       "      <th>Age</th>\n",
       "      <th>Age_range</th>\n",
       "    </tr>\n",
       "  </thead>\n",
       "  <tbody>\n",
       "    <tr>\n",
       "      <td>0</td>\n",
       "      <td>37</td>\n",
       "      <td>35-44</td>\n",
       "    </tr>\n",
       "    <tr>\n",
       "      <td>1</td>\n",
       "      <td>44</td>\n",
       "      <td>35-44</td>\n",
       "    </tr>\n",
       "    <tr>\n",
       "      <td>2</td>\n",
       "      <td>32</td>\n",
       "      <td>25-34</td>\n",
       "    </tr>\n",
       "    <tr>\n",
       "      <td>3</td>\n",
       "      <td>31</td>\n",
       "      <td>25-34</td>\n",
       "    </tr>\n",
       "    <tr>\n",
       "      <td>4</td>\n",
       "      <td>31</td>\n",
       "      <td>25-34</td>\n",
       "    </tr>\n",
       "  </tbody>\n",
       "</table>\n",
       "</div>"
      ],
      "text/plain": [
       "   Age Age_range\n",
       "0   37     35-44\n",
       "1   44     35-44\n",
       "2   32     25-34\n",
       "3   31     25-34\n",
       "4   31     25-34"
      ]
     },
     "execution_count": 22,
     "metadata": {},
     "output_type": "execute_result"
    }
   ],
   "source": [
    "data_cleaned[[\"Age\",\"Age_range\"]].head()"
   ]
  },
  {
   "cell_type": "code",
   "execution_count": 23,
   "metadata": {},
   "outputs": [
    {
     "data": {
      "image/png": "[encoded data removed]",
      "text/plain": [
       "<Figure size 504x504 with 1 Axes>"
      ]
     },
     "metadata": {},
     "output_type": "display_data"
    }
   ],
   "source": [
    "plt.figure(figsize=(7,7))\n",
    "counts=data_cleaned[\"Age_range\"].value_counts()\n",
    "plt.pie(counts.values, labels=counts.index, autopct='%1.1f%%')\n",
    "plt.title(\"Distribution of age of the participants\",fontsize=15)\n",
    "plt.show()"
   ]
  },
  {
   "cell_type": "markdown",
   "metadata": {},
   "source": [
    "# encoding the features (transforming them from string to integer numbers):"
   ]
  },
  {
   "cell_type": "code",
   "execution_count": 24,
   "metadata": {},
   "outputs": [
    {
     "data": {
      "text/html": [
       "<div>\n",
       "<style scoped>\n",
       "    .dataframe tbody tr th:only-of-type {\n",
       "        vertical-align: middle;\n",
       "    }\n",
       "\n",
       "    .dataframe tbody tr th {\n",
       "        vertical-align: top;\n",
       "    }\n",
       "\n",
       "    .dataframe thead th {\n",
       "        text-align: right;\n",
       "    }\n",
       "</style>\n",
       "<table border=\"1\" class=\"dataframe\">\n",
       "  <thead>\n",
       "    <tr style=\"text-align: right;\">\n",
       "      <th></th>\n",
       "      <th>Age</th>\n",
       "      <th>Gender</th>\n",
       "      <th>Country</th>\n",
       "      <th>self_employed</th>\n",
       "      <th>family_history</th>\n",
       "      <th>treatment</th>\n",
       "      <th>work_interfere</th>\n",
       "      <th>no_employees</th>\n",
       "      <th>remote_work</th>\n",
       "      <th>tech_company</th>\n",
       "      <th>...</th>\n",
       "      <th>leave</th>\n",
       "      <th>mental_health_consequence</th>\n",
       "      <th>phys_health_consequence</th>\n",
       "      <th>coworkers</th>\n",
       "      <th>supervisor</th>\n",
       "      <th>mental_health_interview</th>\n",
       "      <th>phys_health_interview</th>\n",
       "      <th>mental_vs_physical</th>\n",
       "      <th>obs_consequence</th>\n",
       "      <th>Age_range</th>\n",
       "    </tr>\n",
       "  </thead>\n",
       "  <tbody>\n",
       "    <tr>\n",
       "      <td>0</td>\n",
       "      <td>37</td>\n",
       "      <td>0</td>\n",
       "      <td>44</td>\n",
       "      <td>0</td>\n",
       "      <td>0</td>\n",
       "      <td>1</td>\n",
       "      <td>2</td>\n",
       "      <td>4</td>\n",
       "      <td>0</td>\n",
       "      <td>1</td>\n",
       "      <td>...</td>\n",
       "      <td>2</td>\n",
       "      <td>1</td>\n",
       "      <td>1</td>\n",
       "      <td>1</td>\n",
       "      <td>2</td>\n",
       "      <td>1</td>\n",
       "      <td>0</td>\n",
       "      <td>2</td>\n",
       "      <td>0</td>\n",
       "      <td>2</td>\n",
       "    </tr>\n",
       "    <tr>\n",
       "      <td>1</td>\n",
       "      <td>44</td>\n",
       "      <td>1</td>\n",
       "      <td>44</td>\n",
       "      <td>0</td>\n",
       "      <td>0</td>\n",
       "      <td>0</td>\n",
       "      <td>3</td>\n",
       "      <td>5</td>\n",
       "      <td>0</td>\n",
       "      <td>0</td>\n",
       "      <td>...</td>\n",
       "      <td>0</td>\n",
       "      <td>0</td>\n",
       "      <td>1</td>\n",
       "      <td>0</td>\n",
       "      <td>0</td>\n",
       "      <td>1</td>\n",
       "      <td>1</td>\n",
       "      <td>0</td>\n",
       "      <td>0</td>\n",
       "      <td>2</td>\n",
       "    </tr>\n",
       "    <tr>\n",
       "      <td>2</td>\n",
       "      <td>32</td>\n",
       "      <td>1</td>\n",
       "      <td>6</td>\n",
       "      <td>0</td>\n",
       "      <td>0</td>\n",
       "      <td>0</td>\n",
       "      <td>3</td>\n",
       "      <td>4</td>\n",
       "      <td>0</td>\n",
       "      <td>1</td>\n",
       "      <td>...</td>\n",
       "      <td>1</td>\n",
       "      <td>1</td>\n",
       "      <td>1</td>\n",
       "      <td>2</td>\n",
       "      <td>2</td>\n",
       "      <td>2</td>\n",
       "      <td>2</td>\n",
       "      <td>1</td>\n",
       "      <td>0</td>\n",
       "      <td>1</td>\n",
       "    </tr>\n",
       "    <tr>\n",
       "      <td>3</td>\n",
       "      <td>31</td>\n",
       "      <td>1</td>\n",
       "      <td>43</td>\n",
       "      <td>0</td>\n",
       "      <td>1</td>\n",
       "      <td>1</td>\n",
       "      <td>2</td>\n",
       "      <td>2</td>\n",
       "      <td>0</td>\n",
       "      <td>1</td>\n",
       "      <td>...</td>\n",
       "      <td>1</td>\n",
       "      <td>2</td>\n",
       "      <td>2</td>\n",
       "      <td>1</td>\n",
       "      <td>0</td>\n",
       "      <td>0</td>\n",
       "      <td>0</td>\n",
       "      <td>1</td>\n",
       "      <td>1</td>\n",
       "      <td>1</td>\n",
       "    </tr>\n",
       "    <tr>\n",
       "      <td>4</td>\n",
       "      <td>31</td>\n",
       "      <td>1</td>\n",
       "      <td>44</td>\n",
       "      <td>0</td>\n",
       "      <td>0</td>\n",
       "      <td>0</td>\n",
       "      <td>1</td>\n",
       "      <td>1</td>\n",
       "      <td>1</td>\n",
       "      <td>1</td>\n",
       "      <td>...</td>\n",
       "      <td>0</td>\n",
       "      <td>1</td>\n",
       "      <td>1</td>\n",
       "      <td>1</td>\n",
       "      <td>2</td>\n",
       "      <td>2</td>\n",
       "      <td>2</td>\n",
       "      <td>0</td>\n",
       "      <td>0</td>\n",
       "      <td>1</td>\n",
       "    </tr>\n",
       "  </tbody>\n",
       "</table>\n",
       "<p>5 rows × 25 columns</p>\n",
       "</div>"
      ],
      "text/plain": [
       "   Age  Gender  Country  self_employed  family_history  treatment  \\\n",
       "0   37       0       44              0               0          1   \n",
       "1   44       1       44              0               0          0   \n",
       "2   32       1        6              0               0          0   \n",
       "3   31       1       43              0               1          1   \n",
       "4   31       1       44              0               0          0   \n",
       "\n",
       "   work_interfere  no_employees  remote_work  tech_company  ...  leave  \\\n",
       "0               2             4            0             1  ...      2   \n",
       "1               3             5            0             0  ...      0   \n",
       "2               3             4            0             1  ...      1   \n",
       "3               2             2            0             1  ...      1   \n",
       "4               1             1            1             1  ...      0   \n",
       "\n",
       "   mental_health_consequence  phys_health_consequence  coworkers  supervisor  \\\n",
       "0                          1                        1          1           2   \n",
       "1                          0                        1          0           0   \n",
       "2                          1                        1          2           2   \n",
       "3                          2                        2          1           0   \n",
       "4                          1                        1          1           2   \n",
       "\n",
       "   mental_health_interview  phys_health_interview  mental_vs_physical  \\\n",
       "0                        1                      0                   2   \n",
       "1                        1                      1                   0   \n",
       "2                        2                      2                   1   \n",
       "3                        0                      0                   1   \n",
       "4                        2                      2                   0   \n",
       "\n",
       "   obs_consequence  Age_range  \n",
       "0                0          2  \n",
       "1                0          2  \n",
       "2                0          1  \n",
       "3                1          1  \n",
       "4                0          1  \n",
       "\n",
       "[5 rows x 25 columns]"
      ]
     },
     "execution_count": 24,
     "metadata": {},
     "output_type": "execute_result"
    }
   ],
   "source": [
    "X=data_cleaned.copy()\n",
    "my_list=list(data_cleaned.columns)\n",
    "my_list.remove(\"Age\")\n",
    "for i in my_list:\n",
    "    LE=LabelEncoder()\n",
    "    X[i]=LE.fit_transform(data_cleaned[i])\n",
    "    \n",
    "X.head(5)"
   ]
  },
  {
   "cell_type": "code",
   "execution_count": 25,
   "metadata": {},
   "outputs": [
    {
     "data": {
      "image/png": "[encoded data removed]",
      "text/plain": [
       "<Figure size 404.875x360 with 1 Axes>"
      ]
     },
     "metadata": {
      "needs_background": "light"
     },
     "output_type": "display_data"
    }
   ],
   "source": [
    "plot=sns.catplot(x=\"Age_range\",y=\"treatment\",hue=\"Gender\",data=X, kind=\"bar\",ci=None,legend=True)\n",
    "plot.set_xticklabels(data_cleaned[\"Age_range\"].unique().sort_values())\n",
    "for t, l in zip(plot._legend.texts, data_cleaned[\"Gender\"].unique()): t.set_text(l)\n",
    "plt.title(\"probability of seeking \\\"treatment for mental health condition\\\" for different Genders in different age groups\", fontsize=11)    \n",
    "plt.show()"
   ]
  },
  {
   "cell_type": "markdown",
   "metadata": {},
   "source": [
    "**Next, In order to prepare our data for being used by machine learning algorithms, We choose the \"treatment\" column as labels, and other columns as features:**\n",
    "\n",
    "**We also split data into training and test sets and sclae it so that all the features are of the same scale. Scaling improves the training process.**"
   ]
  },
  {
   "cell_type": "code",
   "execution_count": 26,
   "metadata": {},
   "outputs": [
    {
     "data": {
      "text/plain": [
       "array([1, 0, 0, ..., 1, 0, 1])"
      ]
     },
     "execution_count": 26,
     "metadata": {},
     "output_type": "execute_result"
    }
   ],
   "source": [
    "y=X[\"treatment\"]\n",
    "del X[\"treatment\"]\n",
    "np.array(y)"
   ]
  },
  {
   "cell_type": "code",
   "execution_count": 27,
   "metadata": {},
   "outputs": [
    {
     "name": "stdout",
     "output_type": "stream",
     "text": [
      "X_train's shape:  (1000, 24)\n",
      "X_test's shape:  (250, 24)\n",
      "y_train's shape:  (1000,)\n",
      "y_test's shape:  (250,)\n"
     ]
    }
   ],
   "source": [
    "#splitting data into training and test sets:\n",
    "X_train, X_test, y_train, y_test = train_test_split(X, y, test_size=0.20, random_state=42)\n",
    "print(\"X_train's shape: \", X_train.shape)\n",
    "print(\"X_test's shape: \", X_test.shape)\n",
    "print(\"y_train's shape: \", y_train.shape)\n",
    "print(\"y_test's shape: \", y_test.shape)"
   ]
  },
  {
   "cell_type": "code",
   "execution_count": 28,
   "metadata": {},
   "outputs": [],
   "source": [
    "#Scaling \n",
    "scaler=MinMaxScaler()\n",
    "X_train=scaler.fit_transform(X_train)\n",
    "X_test=scaler.transform(X_test)"
   ]
  },
  {
   "cell_type": "markdown",
   "metadata": {},
   "source": [
    "# Training different machine learning algorithms to predict probability of a person seeking treatment for his/her mental problem based on the condition he/she is in:"
   ]
  },
  {
   "cell_type": "markdown",
   "metadata": {},
   "source": [
    "**1) Support vector classifier (SVC):**"
   ]
  },
  {
   "cell_type": "code",
   "execution_count": 29,
   "metadata": {},
   "outputs": [
    {
     "name": "stdout",
     "output_type": "stream",
     "text": [
      "accuracy of the svc model on test set: 0.828\n",
      "accuracy of the svc model on training set: 0.871\n",
      "precision of the svc model: 0.823\n",
      "recall of the svc model: 0.866\n",
      "recall of the svc model: 0.866\n",
      "f1-score of the svc model: 0.844\n"
     ]
    }
   ],
   "source": [
    "svc = SVC(probability=True)\n",
    "svc.fit(X_train,y_train)\n",
    "y_pred = svc.predict(X_test)\n",
    "y_pred_train=svc.predict(X_train)\n",
    "y_prob=svc.predict_proba(X_test)\n",
    "\n",
    "print(\"accuracy of the svc model on test set:\",\"{:0.3f}\".format(accuracy_score(y_test,y_pred)))\n",
    "print(\"accuracy of the svc model on training set:\",\"{:0.3f}\".format(accuracy_score(y_train,y_pred_train)))\n",
    "print(\"precision of the svc model:\",\"{:0.3f}\".format(precision_score(y_test,y_pred)))\n",
    "print(\"recall of the svc model:\", \"{:0.3f}\".format(recall_score(y_test,y_pred)))\n",
    "print(\"recall of the svc model:\", \"{:0.3f}\".format(recall_score(y_test,y_pred)))\n",
    "print(\"f1-score of the svc model:\", \"{:0.3f}\".format(f1_score(y_test,y_pred)))"
   ]
  },
  {
   "cell_type": "code",
   "execution_count": 30,
   "metadata": {
    "scrolled": true
   },
   "outputs": [
    {
     "data": {
      "image/png": "[encoded data removed]",
      "text/plain": [
       "<Figure size 432x288 with 2 Axes>"
      ]
     },
     "metadata": {
      "needs_background": "light"
     },
     "output_type": "display_data"
    },
    {
     "data": {
      "image/png": "[encoded data removed]",
      "text/plain": [
       "<Figure size 432x288 with 2 Axes>"
      ]
     },
     "metadata": {
      "needs_background": "light"
     },
     "output_type": "display_data"
    }
   ],
   "source": [
    "#plotting Confusion matrix\n",
    "disp= plot_confusion_matrix(svc, X_test, y_test, cmap=plt.cm.Blues, normalize=None,values_format=\"d\")\n",
    "disp_normal=plot_confusion_matrix(svc, X_test, y_test, cmap=plt.cm.Blues, normalize=\"true\")\n",
    "disp.ax_.set_title(\"Non normalized confussion matrix (SVC)\")\n",
    "disp_normal.ax_.set_title(\"Normalized confussion matrix (SVC)\")\n",
    "plt.show()"
   ]
  },
  {
   "cell_type": "markdown",
   "metadata": {},
   "source": [
    "**Next we plot precision-recall curve:**\n",
    "\n",
    "**Precision-Recall curves summarize the trade-off between the precision and the recall for a predictive model using different probability thresholds. A high area under the curve shows high precision and high recall which is the ideal case. High precision relates to low false positives and high recall relates to low false negatives.**\n",
    "\n",
    "**A system with high recall but low precision (low threshold) returns many positive results, but most of its predicted labels are incorrect when compared to the training labels. A system with high precision but low recall (high threshold) is the opposite, returning very few positive results, but most of its predicted labels are correct when compared to the training labels. An ideal system with high precision and high recall will return many results, with all results labeled correctly.**"
   ]
  },
  {
   "cell_type": "code",
   "execution_count": 31,
   "metadata": {},
   "outputs": [
    {
     "name": "stdout",
     "output_type": "stream",
     "text": [
      "average_precision:  0.8915193698844555\n"
     ]
    },
    {
     "data": {
      "image/png": "[encoded data removed]",
      "text/plain": [
       "<Figure size 432x288 with 1 Axes>"
      ]
     },
     "metadata": {
      "needs_background": "light"
     },
     "output_type": "display_data"
    }
   ],
   "source": [
    "#plotting precision-recal curve\n",
    "average_precision=average_precision_score(y_test, y_prob[:,1])\n",
    "print(\"average_precision: \",average_precision)\n",
    "disp = plot_precision_recall_curve(svc, X_test, y_test)\n",
    "disp.ax_.set_title('Precision-Recall curve (SVC)')\n",
    "plt.show()"
   ]
  },
  {
   "cell_type": "markdown",
   "metadata": {},
   "source": [
    "**2) K nearest neighbors classifier (KNN):**"
   ]
  },
  {
   "cell_type": "code",
   "execution_count": 32,
   "metadata": {},
   "outputs": [
    {
     "name": "stdout",
     "output_type": "stream",
     "text": [
      "accuracy of the KNN model on test set: 0.772\n",
      "accuracy of the KNN model on training set: 0.786\n",
      "precision of the KNN model: 0.808\n",
      "recall of the KNN model: 0.754\n",
      "f1-score of the KNN model: 0.780\n"
     ]
    }
   ],
   "source": [
    "knn = KNeighborsClassifier(n_neighbors=35)\n",
    "knn.fit(X_train, y_train)\n",
    "y_pred =knn.predict(X_test)\n",
    "y_pred_train=knn.predict(X_train)\n",
    "y_prob=knn.predict_proba(X_test)\n",
    "\n",
    "print(\"accuracy of the KNN model on test set:\",\"{:0.3f}\".format(accuracy_score(y_test,y_pred)))\n",
    "print(\"accuracy of the KNN model on training set:\",\"{:0.3f}\".format(accuracy_score(y_train,y_pred_train)))\n",
    "print(\"precision of the KNN model:\",\"{:0.3f}\".format(precision_score(y_test,y_pred)))\n",
    "print(\"recall of the KNN model:\",\"{:0.3f}\".format(recall_score(y_test,y_pred)))\n",
    "print(\"f1-score of the KNN model:\", \"{:0.3f}\".format(f1_score(y_test,y_pred)))"
   ]
  },
  {
   "cell_type": "code",
   "execution_count": 33,
   "metadata": {},
   "outputs": [
    {
     "data": {
      "image/png": "[encoded data removed]",
      "text/plain": [
       "<Figure size 432x288 with 2 Axes>"
      ]
     },
     "metadata": {
      "needs_background": "light"
     },
     "output_type": "display_data"
    },
    {
     "data": {
      "image/png": "[encoded data removed]",
      "text/plain": [
       "<Figure size 432x288 with 2 Axes>"
      ]
     },
     "metadata": {
      "needs_background": "light"
     },
     "output_type": "display_data"
    }
   ],
   "source": [
    "#Plotting confussion matrix:\n",
    "disp= plot_confusion_matrix(knn, X_test, y_test, cmap=plt.cm.Blues, normalize=None,values_format=\"d\")\n",
    "disp_normal=plot_confusion_matrix(knn, X_test, y_test, cmap=plt.cm.Blues, normalize=\"true\")\n",
    "disp.ax_.set_title(\"Non normalized confussion matrix (KNN classifier)\")\n",
    "disp_normal.ax_.set_title(\"     Normalized confussion matrix (KNN classifier)\")\n",
    "plt.show()"
   ]
  },
  {
   "cell_type": "code",
   "execution_count": 34,
   "metadata": {},
   "outputs": [
    {
     "name": "stdout",
     "output_type": "stream",
     "text": [
      "average_precision:  0.8688262555801526\n"
     ]
    },
    {
     "data": {
      "image/png": "[encoded data removed]",
      "text/plain": [
       "<Figure size 432x288 with 1 Axes>"
      ]
     },
     "metadata": {
      "needs_background": "light"
     },
     "output_type": "display_data"
    }
   ],
   "source": [
    "#Plotting precision-recall curve\n",
    "average_precision=average_precision_score(y_test, y_prob[:,1])\n",
    "print(\"average_precision: \",average_precision)\n",
    "disp = plot_precision_recall_curve(knn, X_test, y_test)\n",
    "disp.ax_.set_title('Precision-Recall curve (KNN)')\n",
    "plt.show()"
   ]
  },
  {
   "cell_type": "markdown",
   "metadata": {},
   "source": [
    "**3) Logistic Regression:**"
   ]
  },
  {
   "cell_type": "code",
   "execution_count": 35,
   "metadata": {},
   "outputs": [
    {
     "name": "stdout",
     "output_type": "stream",
     "text": [
      "accuracy of the Logistic Regression model on test set: 0.812\n",
      "accuracy of the Logistic Regression model on training set: 0.817\n",
      "precision of the Logistic Regression model: 0.827\n",
      "recall of the Logistic Regression model: 0.821\n",
      "f1-score of the Logistic Regression model: 0.824\n"
     ]
    }
   ],
   "source": [
    "LR=LogisticRegression()\n",
    "LR.fit(X_train,y_train)\n",
    "y_pred =LR.predict(X_test)\n",
    "y_pred_train=LR.predict(X_train)\n",
    "y_prob=LR.predict_proba(X_test)\n",
    "\n",
    "print(\"accuracy of the Logistic Regression model on test set:\",\"{:0.3f}\".format(accuracy_score(y_test,y_pred)))\n",
    "print(\"accuracy of the Logistic Regression model on training set:\",\"{:0.3f}\".format(accuracy_score(y_train,y_pred_train)))\n",
    "print(\"precision of the Logistic Regression model:\",\"{:0.3f}\".format(precision_score(y_test,y_pred)))\n",
    "print(\"recall of the Logistic Regression model:\",\"{:0.3f}\".format(recall_score(y_test,y_pred)))\n",
    "print(\"f1-score of the Logistic Regression model:\", \"{:0.3f}\".format(f1_score(y_test,y_pred)))"
   ]
  },
  {
   "cell_type": "code",
   "execution_count": 36,
   "metadata": {},
   "outputs": [
    {
     "data": {
      "image/png": "[encoded data removed]",
      "text/plain": [
       "<Figure size 432x288 with 2 Axes>"
      ]
     },
     "metadata": {
      "needs_background": "light"
     },
     "output_type": "display_data"
    },
    {
     "data": {
      "image/png": "[encoded data removed]",
      "text/plain": [
       "<Figure size 432x288 with 2 Axes>"
      ]
     },
     "metadata": {
      "needs_background": "light"
     },
     "output_type": "display_data"
    }
   ],
   "source": [
    "#Plotting confussion matrix:\n",
    "disp= plot_confusion_matrix(LR, X_test, y_test, cmap=plt.cm.Blues, normalize=None,values_format=\"d\")\n",
    "disp_normal=plot_confusion_matrix(LR, X_test, y_test, cmap=plt.cm.Blues, normalize=\"true\")\n",
    "disp.ax_.set_title(\"Non normalized confussion matrix (Logistic Regression classifier)\")\n",
    "disp_normal.ax_.set_title(\"     Normalized confussion matrix (Logistic Regression classifier)\")\n",
    "plt.show()"
   ]
  },
  {
   "cell_type": "code",
   "execution_count": 37,
   "metadata": {},
   "outputs": [
    {
     "name": "stdout",
     "output_type": "stream",
     "text": [
      "average_precision:  0.8853659623861887\n"
     ]
    },
    {
     "data": {
      "image/png": "[encoded data removed]",
      "text/plain": [
       "<Figure size 432x288 with 1 Axes>"
      ]
     },
     "metadata": {
      "needs_background": "light"
     },
     "output_type": "display_data"
    }
   ],
   "source": [
    "#Plotting precision-recall curve\n",
    "average_precision=average_precision_score(y_test, y_prob[:,1])\n",
    "print(\"average_precision: \",average_precision)\n",
    "disp = plot_precision_recall_curve(LR, X_test, y_test)\n",
    "disp.ax_.set_title('Precision-Recall curve (Logistic Regression)')\n",
    "plt.show()"
   ]
  }
 ],
 "metadata": {
  "kernelspec": {
   "display_name": "Python 3",
   "language": "python",
   "name": "python3"
  },
  "language_info": {
   "codemirror_mode": {
    "name": "ipython",
    "version": 3
   },
   "file_extension": ".py",
   "mimetype": "text/x-python",
   "name": "python",
   "nbconvert_exporter": "python",
   "pygments_lexer": "ipython3",
   "version": "3.7.4"
  }
 },
 "nbformat": 4,
 "nbformat_minor": 4
}
